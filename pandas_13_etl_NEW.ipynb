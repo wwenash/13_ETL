{
 "cells": [
  {
   "cell_type": "code",
   "execution_count": 1,
   "metadata": {},
   "outputs": [],
   "source": [
    "import pandas as pd\n",
    "from sqlalchemy import create_engine\n",
    "import re"
   ]
  },
  {
   "cell_type": "code",
   "execution_count": 2,
   "metadata": {},
   "outputs": [],
   "source": [
    "salariesBycollegeCSV = \"Resources/DS_WhereItPaysToAttendCollege/salaries-by-college-type.csv\"\n",
    "salariesBycollege_df = pd.read_csv(salariesBycollegeCSV)\n",
    "\n",
    "college_AccTuitionCSV = \"Resources/DS_USWorldReportCollegeData/College.csv\"\n",
    "college_AccTuition_df = pd.read_csv(college_AccTuitionCSV)\n",
    "\n",
    "usa_rankingCSV = \"Resources/NationalUniversitiesRankings.csv\"\n",
    "usa_ranking_df = pd.read_csv(usa_rankingCSV, encoding = \"latin1\")"
   ]
  },
  {
   "cell_type": "code",
   "execution_count": 3,
   "metadata": {},
   "outputs": [
    {
     "data": {
      "text/html": [
       "<div>\n",
       "<style scoped>\n",
       "    .dataframe tbody tr th:only-of-type {\n",
       "        vertical-align: middle;\n",
       "    }\n",
       "\n",
       "    .dataframe tbody tr th {\n",
       "        vertical-align: top;\n",
       "    }\n",
       "\n",
       "    .dataframe thead th {\n",
       "        text-align: right;\n",
       "    }\n",
       "</style>\n",
       "<table border=\"1\" class=\"dataframe\">\n",
       "  <thead>\n",
       "    <tr style=\"text-align: right;\">\n",
       "      <th></th>\n",
       "      <th>Name</th>\n",
       "      <th>Starting Median Salary</th>\n",
       "      <th>Mid-Career Median Salary</th>\n",
       "    </tr>\n",
       "  </thead>\n",
       "  <tbody>\n",
       "    <tr>\n",
       "      <th>0</th>\n",
       "      <td>Massachusetts Institute of Technology (MIT)</td>\n",
       "      <td>$72,200.00</td>\n",
       "      <td>$126,000.00</td>\n",
       "    </tr>\n",
       "    <tr>\n",
       "      <th>1</th>\n",
       "      <td>California Institute of Technology (CIT)</td>\n",
       "      <td>$75,500.00</td>\n",
       "      <td>$123,000.00</td>\n",
       "    </tr>\n",
       "    <tr>\n",
       "      <th>2</th>\n",
       "      <td>Harvey Mudd College</td>\n",
       "      <td>$71,800.00</td>\n",
       "      <td>$122,000.00</td>\n",
       "    </tr>\n",
       "    <tr>\n",
       "      <th>3</th>\n",
       "      <td>Polytechnic University of New York, Brooklyn</td>\n",
       "      <td>$62,400.00</td>\n",
       "      <td>$114,000.00</td>\n",
       "    </tr>\n",
       "    <tr>\n",
       "      <th>4</th>\n",
       "      <td>Cooper Union</td>\n",
       "      <td>$62,200.00</td>\n",
       "      <td>$114,000.00</td>\n",
       "    </tr>\n",
       "  </tbody>\n",
       "</table>\n",
       "</div>"
      ],
      "text/plain": [
       "                                           Name Starting Median Salary  \\\n",
       "0   Massachusetts Institute of Technology (MIT)             $72,200.00   \n",
       "1      California Institute of Technology (CIT)             $75,500.00   \n",
       "2                           Harvey Mudd College             $71,800.00   \n",
       "3  Polytechnic University of New York, Brooklyn             $62,400.00   \n",
       "4                                  Cooper Union             $62,200.00   \n",
       "\n",
       "  Mid-Career Median Salary  \n",
       "0              $126,000.00  \n",
       "1              $123,000.00  \n",
       "2              $122,000.00  \n",
       "3              $114,000.00  \n",
       "4              $114,000.00  "
      ]
     },
     "execution_count": 3,
     "metadata": {},
     "output_type": "execute_result"
    }
   ],
   "source": [
    "salariesBycollege_df.head()\n",
    "#School Name, Starting Median Salary, Mid-Career Median Salary\n",
    "\n",
    "salariesBycollege_df.rename(columns={'School Name':'Name'}, inplace=True)\n",
    "\n",
    "salariesBycollege_df = salariesBycollege_df.loc[:, ['Name', 'Starting Median Salary', 'Mid-Career Median Salary']]\n",
    "salariesBycollege_df.head()\n",
    "\n",
    "#salariesBycollege_df.describe #[269 rows x 3 columns]>\n"
   ]
  },
  {
   "cell_type": "code",
   "execution_count": 4,
   "metadata": {},
   "outputs": [
    {
     "data": {
      "text/html": [
       "<div>\n",
       "<style scoped>\n",
       "    .dataframe tbody tr th:only-of-type {\n",
       "        vertical-align: middle;\n",
       "    }\n",
       "\n",
       "    .dataframe tbody tr th {\n",
       "        vertical-align: top;\n",
       "    }\n",
       "\n",
       "    .dataframe thead th {\n",
       "        text-align: right;\n",
       "    }\n",
       "</style>\n",
       "<table border=\"1\" class=\"dataframe\">\n",
       "  <thead>\n",
       "    <tr style=\"text-align: right;\">\n",
       "      <th></th>\n",
       "      <th>Name</th>\n",
       "      <th>Starting Median Salary</th>\n",
       "      <th>Mid-Career Median Salary</th>\n",
       "    </tr>\n",
       "  </thead>\n",
       "  <tbody>\n",
       "    <tr>\n",
       "      <th>0</th>\n",
       "      <td>Massachusetts Institute of Technology</td>\n",
       "      <td>$72,200.00</td>\n",
       "      <td>$126,000.00</td>\n",
       "    </tr>\n",
       "    <tr>\n",
       "      <th>1</th>\n",
       "      <td>California Institute of Technology</td>\n",
       "      <td>$75,500.00</td>\n",
       "      <td>$123,000.00</td>\n",
       "    </tr>\n",
       "    <tr>\n",
       "      <th>2</th>\n",
       "      <td>Harvey Mudd College</td>\n",
       "      <td>$71,800.00</td>\n",
       "      <td>$122,000.00</td>\n",
       "    </tr>\n",
       "    <tr>\n",
       "      <th>3</th>\n",
       "      <td>Polytechnic University of New York, Brooklyn</td>\n",
       "      <td>$62,400.00</td>\n",
       "      <td>$114,000.00</td>\n",
       "    </tr>\n",
       "    <tr>\n",
       "      <th>4</th>\n",
       "      <td>Cooper Union</td>\n",
       "      <td>$62,200.00</td>\n",
       "      <td>$114,000.00</td>\n",
       "    </tr>\n",
       "  </tbody>\n",
       "</table>\n",
       "</div>"
      ],
      "text/plain": [
       "                                           Name Starting Median Salary  \\\n",
       "0         Massachusetts Institute of Technology             $72,200.00   \n",
       "1            California Institute of Technology             $75,500.00   \n",
       "2                           Harvey Mudd College             $71,800.00   \n",
       "3  Polytechnic University of New York, Brooklyn             $62,400.00   \n",
       "4                                  Cooper Union             $62,200.00   \n",
       "\n",
       "  Mid-Career Median Salary  \n",
       "0              $126,000.00  \n",
       "1              $123,000.00  \n",
       "2              $122,000.00  \n",
       "3              $114,000.00  \n",
       "4              $114,000.00  "
      ]
     },
     "execution_count": 4,
     "metadata": {},
     "output_type": "execute_result"
    }
   ],
   "source": [
    "#replaces () with nothing.. reference here: \n",
    "#https://stackoverflow.com/questions/20894525/how-to-remove-parentheses-and-all-data-within-using-pandas-python\n",
    "\n",
    "for i, row in salariesBycollege_df.iterrows():\n",
    "\n",
    "    salariesBycollege_df.loc[i, 'Name'] = re.sub(r\" ?\\([^)]+\\)\", \"\", salariesBycollege_df.loc[i, 'Name'])\n",
    "    \n",
    "salariesBycollege_df.head()"
   ]
  },
  {
   "cell_type": "code",
   "execution_count": 5,
   "metadata": {},
   "outputs": [
    {
     "data": {
      "text/html": [
       "<div>\n",
       "<style scoped>\n",
       "    .dataframe tbody tr th:only-of-type {\n",
       "        vertical-align: middle;\n",
       "    }\n",
       "\n",
       "    .dataframe tbody tr th {\n",
       "        vertical-align: top;\n",
       "    }\n",
       "\n",
       "    .dataframe thead th {\n",
       "        text-align: right;\n",
       "    }\n",
       "</style>\n",
       "<table border=\"1\" class=\"dataframe\">\n",
       "  <thead>\n",
       "    <tr style=\"text-align: right;\">\n",
       "      <th></th>\n",
       "      <th>Name</th>\n",
       "      <th>Private</th>\n",
       "      <th>Apps</th>\n",
       "      <th>Accept</th>\n",
       "      <th>Acp_Rate(%)</th>\n",
       "    </tr>\n",
       "  </thead>\n",
       "  <tbody>\n",
       "    <tr>\n",
       "      <th>0</th>\n",
       "      <td>Abilene Christian University</td>\n",
       "      <td>Yes</td>\n",
       "      <td>1660</td>\n",
       "      <td>1232</td>\n",
       "      <td>74.22</td>\n",
       "    </tr>\n",
       "    <tr>\n",
       "      <th>1</th>\n",
       "      <td>Adelphi University</td>\n",
       "      <td>Yes</td>\n",
       "      <td>2186</td>\n",
       "      <td>1924</td>\n",
       "      <td>88.01</td>\n",
       "    </tr>\n",
       "    <tr>\n",
       "      <th>2</th>\n",
       "      <td>Adrian College</td>\n",
       "      <td>Yes</td>\n",
       "      <td>1428</td>\n",
       "      <td>1097</td>\n",
       "      <td>76.82</td>\n",
       "    </tr>\n",
       "    <tr>\n",
       "      <th>3</th>\n",
       "      <td>Agnes Scott College</td>\n",
       "      <td>Yes</td>\n",
       "      <td>417</td>\n",
       "      <td>349</td>\n",
       "      <td>83.69</td>\n",
       "    </tr>\n",
       "    <tr>\n",
       "      <th>4</th>\n",
       "      <td>Alaska Pacific University</td>\n",
       "      <td>Yes</td>\n",
       "      <td>193</td>\n",
       "      <td>146</td>\n",
       "      <td>75.65</td>\n",
       "    </tr>\n",
       "  </tbody>\n",
       "</table>\n",
       "</div>"
      ],
      "text/plain": [
       "                           Name Private  Apps  Accept  Acp_Rate(%)\n",
       "0  Abilene Christian University     Yes  1660    1232        74.22\n",
       "1            Adelphi University     Yes  2186    1924        88.01\n",
       "2                Adrian College     Yes  1428    1097        76.82\n",
       "3           Agnes Scott College     Yes   417     349        83.69\n",
       "4     Alaska Pacific University     Yes   193     146        75.65"
      ]
     },
     "execution_count": 5,
     "metadata": {},
     "output_type": "execute_result"
    }
   ],
   "source": [
    "\n",
    "#name, Private, Apps, Accept \"AcpRate\"\n",
    "college_AccTuition_df.rename( columns={'Unnamed: 0':'Name'}, inplace=True )\n",
    "\n",
    "college_accept_df = college_AccTuition_df.loc[:, ['Name', 'Private', 'Apps', 'Accept']]\n",
    "\n",
    "college_accept_df['Acp_Rate(%)'] = round(college_accept_df['Accept'] / college_accept_df['Apps'] * 100,2)\n",
    "\n",
    "college_accept_df.head()\n",
    "\n"
   ]
  },
  {
   "cell_type": "code",
   "execution_count": 6,
   "metadata": {},
   "outputs": [
    {
     "data": {
      "text/plain": [
       "Name                          0\n",
       "Location                      0\n",
       "Rank                          0\n",
       "Description                   0\n",
       "Tuition and fees              0\n",
       "In-state                     98\n",
       "Undergrad Enrollment          0\n",
       "Starting Median Salary      157\n",
       "Mid-Career Median Salary    157\n",
       "dtype: int64"
      ]
     },
     "execution_count": 6,
     "metadata": {},
     "output_type": "execute_result"
    }
   ],
   "source": [
    "new1_merged_df = usa_ranking_df.merge(salariesBycollege_df, on='Name', how='left')\n",
    "\n",
    "#new1_merged_df\n",
    "new1_merged_df.isnull().sum()"
   ]
  },
  {
   "cell_type": "code",
   "execution_count": 7,
   "metadata": {},
   "outputs": [
    {
     "data": {
      "text/html": [
       "<div>\n",
       "<style scoped>\n",
       "    .dataframe tbody tr th:only-of-type {\n",
       "        vertical-align: middle;\n",
       "    }\n",
       "\n",
       "    .dataframe tbody tr th {\n",
       "        vertical-align: top;\n",
       "    }\n",
       "\n",
       "    .dataframe thead th {\n",
       "        text-align: right;\n",
       "    }\n",
       "</style>\n",
       "<table border=\"1\" class=\"dataframe\">\n",
       "  <thead>\n",
       "    <tr style=\"text-align: right;\">\n",
       "      <th></th>\n",
       "      <th>Name</th>\n",
       "      <th>Location</th>\n",
       "      <th>Rank</th>\n",
       "      <th>Tuition and fees</th>\n",
       "    </tr>\n",
       "  </thead>\n",
       "  <tbody>\n",
       "    <tr>\n",
       "      <th>0</th>\n",
       "      <td>Princeton University</td>\n",
       "      <td>Princeton, NJ</td>\n",
       "      <td>1</td>\n",
       "      <td>$45,320</td>\n",
       "    </tr>\n",
       "    <tr>\n",
       "      <th>1</th>\n",
       "      <td>Harvard University</td>\n",
       "      <td>Cambridge, MA</td>\n",
       "      <td>2</td>\n",
       "      <td>$47,074</td>\n",
       "    </tr>\n",
       "    <tr>\n",
       "      <th>2</th>\n",
       "      <td>University of Chicago</td>\n",
       "      <td>Chicago, IL</td>\n",
       "      <td>3</td>\n",
       "      <td>$52,491</td>\n",
       "    </tr>\n",
       "    <tr>\n",
       "      <th>3</th>\n",
       "      <td>Yale University</td>\n",
       "      <td>New Haven, CT</td>\n",
       "      <td>3</td>\n",
       "      <td>$49,480</td>\n",
       "    </tr>\n",
       "    <tr>\n",
       "      <th>4</th>\n",
       "      <td>Columbia University</td>\n",
       "      <td>New York, NY</td>\n",
       "      <td>5</td>\n",
       "      <td>$55,056</td>\n",
       "    </tr>\n",
       "  </tbody>\n",
       "</table>\n",
       "</div>"
      ],
      "text/plain": [
       "                    Name       Location  Rank Tuition and fees\n",
       "0   Princeton University  Princeton, NJ     1         $45,320 \n",
       "1     Harvard University  Cambridge, MA     2         $47,074 \n",
       "2  University of Chicago    Chicago, IL     3         $52,491 \n",
       "3        Yale University  New Haven, CT     3         $49,480 \n",
       "4    Columbia University   New York, NY     5         $55,056 "
      ]
     },
     "execution_count": 7,
     "metadata": {},
     "output_type": "execute_result"
    }
   ],
   "source": [
    "usa_ranking_df.head()\n",
    "#Name, Location, Rank, Tuition and fees\n",
    "usa_ranking_df = usa_ranking_df.loc[:,['Name', 'Location', 'Rank', 'Tuition and fees']]\n",
    "usa_ranking_df.head()\n",
    "\n"
   ]
  },
  {
   "cell_type": "code",
   "execution_count": 8,
   "metadata": {},
   "outputs": [
    {
     "data": {
      "text/html": [
       "<div>\n",
       "<style scoped>\n",
       "    .dataframe tbody tr th:only-of-type {\n",
       "        vertical-align: middle;\n",
       "    }\n",
       "\n",
       "    .dataframe tbody tr th {\n",
       "        vertical-align: top;\n",
       "    }\n",
       "\n",
       "    .dataframe thead th {\n",
       "        text-align: right;\n",
       "    }\n",
       "</style>\n",
       "<table border=\"1\" class=\"dataframe\">\n",
       "  <thead>\n",
       "    <tr style=\"text-align: right;\">\n",
       "      <th></th>\n",
       "      <th>Name</th>\n",
       "      <th>Location</th>\n",
       "      <th>Rank</th>\n",
       "      <th>Tuition and fees</th>\n",
       "      <th>Private</th>\n",
       "      <th>Apps</th>\n",
       "      <th>Accept</th>\n",
       "      <th>Acp_Rate(%)</th>\n",
       "    </tr>\n",
       "  </thead>\n",
       "  <tbody>\n",
       "    <tr>\n",
       "      <th>0</th>\n",
       "      <td>Princeton University</td>\n",
       "      <td>Princeton, NJ</td>\n",
       "      <td>1</td>\n",
       "      <td>$45,320</td>\n",
       "      <td>Yes</td>\n",
       "      <td>13218.0</td>\n",
       "      <td>2042.0</td>\n",
       "      <td>15.45</td>\n",
       "    </tr>\n",
       "    <tr>\n",
       "      <th>1</th>\n",
       "      <td>Harvard University</td>\n",
       "      <td>Cambridge, MA</td>\n",
       "      <td>2</td>\n",
       "      <td>$47,074</td>\n",
       "      <td>Yes</td>\n",
       "      <td>13865.0</td>\n",
       "      <td>2165.0</td>\n",
       "      <td>15.61</td>\n",
       "    </tr>\n",
       "    <tr>\n",
       "      <th>2</th>\n",
       "      <td>University of Chicago</td>\n",
       "      <td>Chicago, IL</td>\n",
       "      <td>3</td>\n",
       "      <td>$52,491</td>\n",
       "      <td>Yes</td>\n",
       "      <td>6348.0</td>\n",
       "      <td>2999.0</td>\n",
       "      <td>47.24</td>\n",
       "    </tr>\n",
       "    <tr>\n",
       "      <th>3</th>\n",
       "      <td>Yale University</td>\n",
       "      <td>New Haven, CT</td>\n",
       "      <td>3</td>\n",
       "      <td>$49,480</td>\n",
       "      <td>Yes</td>\n",
       "      <td>10705.0</td>\n",
       "      <td>2453.0</td>\n",
       "      <td>22.91</td>\n",
       "    </tr>\n",
       "    <tr>\n",
       "      <th>4</th>\n",
       "      <td>Columbia University</td>\n",
       "      <td>New York, NY</td>\n",
       "      <td>5</td>\n",
       "      <td>$55,056</td>\n",
       "      <td>Yes</td>\n",
       "      <td>6756.0</td>\n",
       "      <td>1930.0</td>\n",
       "      <td>28.57</td>\n",
       "    </tr>\n",
       "  </tbody>\n",
       "</table>\n",
       "</div>"
      ],
      "text/plain": [
       "                    Name       Location  Rank Tuition and fees Private  \\\n",
       "0   Princeton University  Princeton, NJ     1         $45,320      Yes   \n",
       "1     Harvard University  Cambridge, MA     2         $47,074      Yes   \n",
       "2  University of Chicago    Chicago, IL     3         $52,491      Yes   \n",
       "3        Yale University  New Haven, CT     3         $49,480      Yes   \n",
       "4    Columbia University   New York, NY     5         $55,056      Yes   \n",
       "\n",
       "      Apps  Accept  Acp_Rate(%)  \n",
       "0  13218.0  2042.0        15.45  \n",
       "1  13865.0  2165.0        15.61  \n",
       "2   6348.0  2999.0        47.24  \n",
       "3  10705.0  2453.0        22.91  \n",
       "4   6756.0  1930.0        28.57  "
      ]
     },
     "execution_count": 8,
     "metadata": {},
     "output_type": "execute_result"
    }
   ],
   "source": [
    "merged_df = usa_ranking_df.merge(college_accept_df, on='Name', how='left')\n",
    "merged_df.head()\n",
    "#merged_df.count()"
   ]
  },
  {
   "cell_type": "code",
   "execution_count": 9,
   "metadata": {},
   "outputs": [
    {
     "data": {
      "text/plain": [
       "Name                  0\n",
       "Location              0\n",
       "Rank                  0\n",
       "Tuition and fees      0\n",
       "Private             121\n",
       "Apps                121\n",
       "Accept              121\n",
       "Acp_Rate(%)         121\n",
       "dtype: int64"
      ]
     },
     "execution_count": 9,
     "metadata": {},
     "output_type": "execute_result"
    }
   ],
   "source": [
    "merged_df.isnull().sum()"
   ]
  },
  {
   "cell_type": "code",
   "execution_count": 10,
   "metadata": {},
   "outputs": [],
   "source": [
    "#get list of schools with NaN values\n",
    "\n",
    "missingData = []\n",
    "special_df = merged_df.isnull().any(axis=1)\n",
    "#print(special_df)\n",
    "\n",
    "for i, row in enumerate(special_df):\n",
    "    if row == True:\n",
    "        #print(i,row)\n",
    "        \n",
    "        for x, stuff in merged_df.iterrows():\n",
    "            if x == i:\n",
    "                #print(stuff['Name'])\n",
    "                missingData.append(stuff['Name'])"
   ]
  },
  {
   "cell_type": "code",
   "execution_count": 11,
   "metadata": {},
   "outputs": [],
   "source": [
    "#bring in CSV for grabbing missing Acceptance rate for NaN values\n",
    "#mostRecentDataCSV = \"Resources/Most-Recent-Cohorts-All-Data-Elements.csv\"\n",
    "mostRecentDataCSV = \"Resources/DS_collegescorecard_ed_gov/Most-Recent-Cohorts-All-Data-Elements.csv\"\n",
    "mostRecentData_df = pd.read_csv(mostRecentDataCSV,error_bad_lines=False, index_col=False, dtype='unicode')\n",
    "#mostRecentData_df.columns"
   ]
  },
  {
   "cell_type": "markdown",
   "metadata": {},
   "source": [
    "Data improvement form another resource in effort to reduce the amount of \"NaN\" values in \"merged_USR_cacc_df = merged_df\""
   ]
  },
  {
   "cell_type": "code",
   "execution_count": 13,
   "metadata": {},
   "outputs": [],
   "source": [
    "#using school name from missingData grab acceptance rate from mostRecentData_df[ADM_RATE_ALL'] \n",
    "\n",
    "missingADMrate = {}\n",
    "\n",
    "mostADMrate_MDsalary_df = mostRecentData_df.loc[:,['INSTNM','ADM_RATE_ALL','MD_EARN_WNE_P10']]\n",
    "mostADMrate_MDsalary_df.head()\n",
    "\n",
    "for i, row in mostADMrate_MDsalary_df.iterrows():\n",
    "\n",
    "    for line in missingData:\n",
    "        \n",
    "        if row[0] == line:\n",
    "            row[1] = float(row[1])\n",
    "            row[1] = round(row[1] * 100,2)\n",
    "            missingADMrate.update({line:row[1]})\n",
    "            \n",
    "if 'Benedictine University' in missingADMrate: \n",
    "    del missingADMrate['Benedictine University']\n",
    "            \n",
    "#for (key, value) in missingADMrate.items():\n",
    "    #print(key,\"::\", value)\n",
    "    "
   ]
  },
  {
   "cell_type": "code",
   "execution_count": 14,
   "metadata": {},
   "outputs": [],
   "source": [
    "#change name of merged_df to relect the two df merged into it... and eleminate a few columns\n",
    "\n",
    "merged_USR_cacc_df = merged_df\n",
    "\n",
    "#if Acp_Rate(%) has a NaN value and a new value in missingADMrate, map and replace the NaN value\n",
    "merged_USR_cacc_df.loc[merged_USR_cacc_df['Acp_Rate(%)'].isnull(), 'Acp_Rate(%)'] = merged_USR_cacc_df['Name'].map(missingADMrate)\n",
    "\n",
    "merged_USR_cacc_df = merged_USR_cacc_df.loc[:,['Name','Location','Rank','Tuition and fees','Private','Acp_Rate(%)']]\n",
    "#merged_USR_cacc_df.head(10)\n"
   ]
  },
  {
   "cell_type": "code",
   "execution_count": 15,
   "metadata": {},
   "outputs": [
    {
     "data": {
      "text/plain": [
       "Name                  0\n",
       "Location              0\n",
       "Rank                  0\n",
       "Tuition and fees      0\n",
       "Private             121\n",
       "Acp_Rate(%)          73\n",
       "dtype: int64"
      ]
     },
     "execution_count": 15,
     "metadata": {},
     "output_type": "execute_result"
    }
   ],
   "source": [
    "#slight improvement in the Acceptance rate NaN values\n",
    "\n",
    "merged_USR_cacc_df.isnull().sum()\n"
   ]
  },
  {
   "cell_type": "code",
   "execution_count": 16,
   "metadata": {},
   "outputs": [
    {
     "data": {
      "text/plain": [
       "Name                          0\n",
       "Location                      0\n",
       "Rank                          0\n",
       "Tuition and fees              0\n",
       "Private                     124\n",
       "Acp_Rate(%)                  74\n",
       "Starting Median Salary      157\n",
       "Mid-Career Median Salary    157\n",
       "dtype: int64"
      ]
     },
     "execution_count": 16,
     "metadata": {},
     "output_type": "execute_result"
    }
   ],
   "source": [
    "#make final merge \n",
    "finalmerge_df = merged_USR_cacc_df.merge(salariesBycollege_df, on='Name', how='left')\n",
    "finalmerge_df.isnull().sum()"
   ]
  },
  {
   "cell_type": "code",
   "execution_count": 17,
   "metadata": {},
   "outputs": [
    {
     "name": "stdout",
     "output_type": "stream",
     "text": [
      "157\n"
     ]
    }
   ],
   "source": [
    "#get list of schools with NaN values.... going to work on improving Salary columns\n",
    "\n",
    "missingSalaryDatalist = []\n",
    "\n",
    "missingSalaryData = pd.isnull(finalmerge_df['Starting Median Salary'])\n",
    "\n",
    "for i, row in enumerate(missingSalaryData):\n",
    "    if row == True:\n",
    "        \n",
    "        for x, stuff in finalmerge_df.iterrows():\n",
    "            if x == i:\n",
    "                #print(stuff['Name'])\n",
    "                missingSalaryDatalist.append(stuff['Name'])\n",
    "                \n",
    "print(len(missingSalaryDatalist))"
   ]
  },
  {
   "cell_type": "code",
   "execution_count": 20,
   "metadata": {},
   "outputs": [],
   "source": [
    "#Bring in the next resourse for the Salary info:\n",
    "#using school name from missingMDsalary grab salary info from mostADMrate_MDsalary_df['MD_EARN_WNE_P10'] \n",
    "\n",
    "missingMDsalary = {}\n",
    "\n",
    "#mostMDsalary_df = mostRecentScorecard_df.loc[:,['INSTNM','MD_EARN_WNE_P10']]\n",
    "#mostMDsalary_df.head()\n",
    "#mostADMrate_MDsalary_df\n",
    "\n",
    "for i, row in mostADMrate_MDsalary_df.iterrows():\n",
    "\n",
    "    for line in missingSalaryDatalist:\n",
    "        \n",
    "        if row[0] == line:\n",
    "            missingMDsalary.update({line:row[2]})\n",
    "            \n",
    "#for (key, value) in missingMDsalary.items():\n",
    "#    print(key,\"::\", value)\n",
    "\n"
   ]
  },
  {
   "cell_type": "code",
   "execution_count": 21,
   "metadata": {},
   "outputs": [
    {
     "data": {
      "text/plain": [
       "Name                          0\n",
       "Location                      0\n",
       "Rank                          0\n",
       "Tuition and fees              0\n",
       "Private                     124\n",
       "Acp_Rate(%)                  74\n",
       "Starting Median Salary      157\n",
       "Mid-Career Median Salary     71\n",
       "dtype: int64"
      ]
     },
     "execution_count": 21,
     "metadata": {},
     "output_type": "execute_result"
    }
   ],
   "source": [
    "#repalce NaN value in Mid-Career Median Salary column with new data from missingMDsalary\n",
    "finalmerge_df.loc[finalmerge_df['Mid-Career Median Salary'].isnull(), 'Mid-Career Median Salary'] = finalmerge_df['Name'].map(missingMDsalary)  \n",
    "\n",
    "finalmerge_df.isnull().sum()\n",
    "\n"
   ]
  },
  {
   "cell_type": "code",
   "execution_count": null,
   "metadata": {},
   "outputs": [],
   "source": []
  }
 ],
 "metadata": {
  "kernelspec": {
   "display_name": "Python [conda env:PythonData]",
   "language": "python",
   "name": "conda-env-PythonData-py"
  },
  "language_info": {
   "codemirror_mode": {
    "name": "ipython",
    "version": 3
   },
   "file_extension": ".py",
   "mimetype": "text/x-python",
   "name": "python",
   "nbconvert_exporter": "python",
   "pygments_lexer": "ipython3",
   "version": "3.6.6"
  }
 },
 "nbformat": 4,
 "nbformat_minor": 2
}
